{
 "cells": [
  {
   "cell_type": "markdown",
   "metadata": {},
   "source": [
    "# DATA PREPARATION AND EXPORT"
   ]
  },
  {
   "cell_type": "markdown",
   "metadata": {},
   "source": [
    "### 1. Import pandas library and read CSV file"
   ]
  },
  {
   "cell_type": "code",
   "execution_count": 13,
   "metadata": {},
   "outputs": [
    {
     "name": "stdout",
     "output_type": "stream",
     "text": [
      "Number of rows: 89184\n"
     ]
    },
    {
     "data": {
      "text/html": [
       "<div>\n",
       "<style scoped>\n",
       "    .dataframe tbody tr th:only-of-type {\n",
       "        vertical-align: middle;\n",
       "    }\n",
       "\n",
       "    .dataframe tbody tr th {\n",
       "        vertical-align: top;\n",
       "    }\n",
       "\n",
       "    .dataframe thead th {\n",
       "        text-align: right;\n",
       "    }\n",
       "</style>\n",
       "<table border=\"1\" class=\"dataframe\">\n",
       "  <thead>\n",
       "    <tr style=\"text-align: right;\">\n",
       "      <th></th>\n",
       "      <th>ResponseId</th>\n",
       "      <th>Q120</th>\n",
       "      <th>MainBranch</th>\n",
       "      <th>Age</th>\n",
       "      <th>Employment</th>\n",
       "      <th>RemoteWork</th>\n",
       "      <th>CodingActivities</th>\n",
       "      <th>EdLevel</th>\n",
       "      <th>LearnCode</th>\n",
       "      <th>LearnCodeOnline</th>\n",
       "      <th>...</th>\n",
       "      <th>Frequency_1</th>\n",
       "      <th>Frequency_2</th>\n",
       "      <th>Frequency_3</th>\n",
       "      <th>TimeSearching</th>\n",
       "      <th>TimeAnswering</th>\n",
       "      <th>ProfessionalTech</th>\n",
       "      <th>Industry</th>\n",
       "      <th>SurveyLength</th>\n",
       "      <th>SurveyEase</th>\n",
       "      <th>ConvertedCompYearly</th>\n",
       "    </tr>\n",
       "  </thead>\n",
       "  <tbody>\n",
       "    <tr>\n",
       "      <th>0</th>\n",
       "      <td>1</td>\n",
       "      <td>I agree</td>\n",
       "      <td>None of these</td>\n",
       "      <td>18-24 years old</td>\n",
       "      <td>NaN</td>\n",
       "      <td>NaN</td>\n",
       "      <td>NaN</td>\n",
       "      <td>NaN</td>\n",
       "      <td>NaN</td>\n",
       "      <td>NaN</td>\n",
       "      <td>...</td>\n",
       "      <td>NaN</td>\n",
       "      <td>NaN</td>\n",
       "      <td>NaN</td>\n",
       "      <td>NaN</td>\n",
       "      <td>NaN</td>\n",
       "      <td>NaN</td>\n",
       "      <td>NaN</td>\n",
       "      <td>NaN</td>\n",
       "      <td>NaN</td>\n",
       "      <td>NaN</td>\n",
       "    </tr>\n",
       "    <tr>\n",
       "      <th>1</th>\n",
       "      <td>2</td>\n",
       "      <td>I agree</td>\n",
       "      <td>I am a developer by profession</td>\n",
       "      <td>25-34 years old</td>\n",
       "      <td>Employed, full-time</td>\n",
       "      <td>Remote</td>\n",
       "      <td>Hobby;Contribute to open-source projects;Boots...</td>\n",
       "      <td>Bachelor’s degree (B.A., B.S., B.Eng., etc.)</td>\n",
       "      <td>Books / Physical media;Colleague;Friend or fam...</td>\n",
       "      <td>Formal documentation provided by the owner of ...</td>\n",
       "      <td>...</td>\n",
       "      <td>1-2 times a week</td>\n",
       "      <td>10+ times a week</td>\n",
       "      <td>Never</td>\n",
       "      <td>15-30 minutes a day</td>\n",
       "      <td>15-30 minutes a day</td>\n",
       "      <td>DevOps function;Microservices;Automated testin...</td>\n",
       "      <td>Information Services, IT, Software Development...</td>\n",
       "      <td>Appropriate in length</td>\n",
       "      <td>Easy</td>\n",
       "      <td>285000.0</td>\n",
       "    </tr>\n",
       "    <tr>\n",
       "      <th>2</th>\n",
       "      <td>3</td>\n",
       "      <td>I agree</td>\n",
       "      <td>I am a developer by profession</td>\n",
       "      <td>45-54 years old</td>\n",
       "      <td>Employed, full-time</td>\n",
       "      <td>Hybrid (some remote, some in-person)</td>\n",
       "      <td>Hobby;Professional development or self-paced l...</td>\n",
       "      <td>Bachelor’s degree (B.A., B.S., B.Eng., etc.)</td>\n",
       "      <td>Books / Physical media;Colleague;On the job tr...</td>\n",
       "      <td>Formal documentation provided by the owner of ...</td>\n",
       "      <td>...</td>\n",
       "      <td>6-10 times a week</td>\n",
       "      <td>6-10 times a week</td>\n",
       "      <td>3-5 times a week</td>\n",
       "      <td>30-60 minutes a day</td>\n",
       "      <td>30-60 minutes a day</td>\n",
       "      <td>DevOps function;Microservices;Automated testin...</td>\n",
       "      <td>Information Services, IT, Software Development...</td>\n",
       "      <td>Appropriate in length</td>\n",
       "      <td>Easy</td>\n",
       "      <td>250000.0</td>\n",
       "    </tr>\n",
       "    <tr>\n",
       "      <th>3</th>\n",
       "      <td>4</td>\n",
       "      <td>I agree</td>\n",
       "      <td>I am a developer by profession</td>\n",
       "      <td>25-34 years old</td>\n",
       "      <td>Employed, full-time</td>\n",
       "      <td>Hybrid (some remote, some in-person)</td>\n",
       "      <td>Hobby</td>\n",
       "      <td>Bachelor’s degree (B.A., B.S., B.Eng., etc.)</td>\n",
       "      <td>Colleague;Friend or family member;Other online...</td>\n",
       "      <td>Formal documentation provided by the owner of ...</td>\n",
       "      <td>...</td>\n",
       "      <td>1-2 times a week</td>\n",
       "      <td>10+ times a week</td>\n",
       "      <td>1-2 times a week</td>\n",
       "      <td>15-30 minutes a day</td>\n",
       "      <td>30-60 minutes a day</td>\n",
       "      <td>Automated testing;Continuous integration (CI) ...</td>\n",
       "      <td>NaN</td>\n",
       "      <td>Appropriate in length</td>\n",
       "      <td>Easy</td>\n",
       "      <td>156000.0</td>\n",
       "    </tr>\n",
       "    <tr>\n",
       "      <th>4</th>\n",
       "      <td>5</td>\n",
       "      <td>I agree</td>\n",
       "      <td>I am a developer by profession</td>\n",
       "      <td>25-34 years old</td>\n",
       "      <td>Employed, full-time;Independent contractor, fr...</td>\n",
       "      <td>Remote</td>\n",
       "      <td>Hobby;Contribute to open-source projects;Profe...</td>\n",
       "      <td>Bachelor’s degree (B.A., B.S., B.Eng., etc.)</td>\n",
       "      <td>Books / Physical media;Online Courses or Certi...</td>\n",
       "      <td>Formal documentation provided by the owner of ...</td>\n",
       "      <td>...</td>\n",
       "      <td>1-2 times a week</td>\n",
       "      <td>1-2 times a week</td>\n",
       "      <td>3-5 times a week</td>\n",
       "      <td>60-120 minutes a day</td>\n",
       "      <td>30-60 minutes a day</td>\n",
       "      <td>Microservices;Automated testing;Observability ...</td>\n",
       "      <td>Other</td>\n",
       "      <td>Appropriate in length</td>\n",
       "      <td>Neither easy nor difficult</td>\n",
       "      <td>23456.0</td>\n",
       "    </tr>\n",
       "  </tbody>\n",
       "</table>\n",
       "<p>5 rows × 84 columns</p>\n",
       "</div>"
      ],
      "text/plain": [
       "   ResponseId     Q120                      MainBranch              Age  \\\n",
       "0           1  I agree                   None of these  18-24 years old   \n",
       "1           2  I agree  I am a developer by profession  25-34 years old   \n",
       "2           3  I agree  I am a developer by profession  45-54 years old   \n",
       "3           4  I agree  I am a developer by profession  25-34 years old   \n",
       "4           5  I agree  I am a developer by profession  25-34 years old   \n",
       "\n",
       "                                          Employment  \\\n",
       "0                                                NaN   \n",
       "1                                Employed, full-time   \n",
       "2                                Employed, full-time   \n",
       "3                                Employed, full-time   \n",
       "4  Employed, full-time;Independent contractor, fr...   \n",
       "\n",
       "                             RemoteWork  \\\n",
       "0                                   NaN   \n",
       "1                                Remote   \n",
       "2  Hybrid (some remote, some in-person)   \n",
       "3  Hybrid (some remote, some in-person)   \n",
       "4                                Remote   \n",
       "\n",
       "                                    CodingActivities  \\\n",
       "0                                                NaN   \n",
       "1  Hobby;Contribute to open-source projects;Boots...   \n",
       "2  Hobby;Professional development or self-paced l...   \n",
       "3                                              Hobby   \n",
       "4  Hobby;Contribute to open-source projects;Profe...   \n",
       "\n",
       "                                        EdLevel  \\\n",
       "0                                           NaN   \n",
       "1  Bachelor’s degree (B.A., B.S., B.Eng., etc.)   \n",
       "2  Bachelor’s degree (B.A., B.S., B.Eng., etc.)   \n",
       "3  Bachelor’s degree (B.A., B.S., B.Eng., etc.)   \n",
       "4  Bachelor’s degree (B.A., B.S., B.Eng., etc.)   \n",
       "\n",
       "                                           LearnCode  \\\n",
       "0                                                NaN   \n",
       "1  Books / Physical media;Colleague;Friend or fam...   \n",
       "2  Books / Physical media;Colleague;On the job tr...   \n",
       "3  Colleague;Friend or family member;Other online...   \n",
       "4  Books / Physical media;Online Courses or Certi...   \n",
       "\n",
       "                                     LearnCodeOnline  ...        Frequency_1  \\\n",
       "0                                                NaN  ...                NaN   \n",
       "1  Formal documentation provided by the owner of ...  ...   1-2 times a week   \n",
       "2  Formal documentation provided by the owner of ...  ...  6-10 times a week   \n",
       "3  Formal documentation provided by the owner of ...  ...   1-2 times a week   \n",
       "4  Formal documentation provided by the owner of ...  ...   1-2 times a week   \n",
       "\n",
       "         Frequency_2       Frequency_3         TimeSearching  \\\n",
       "0                NaN               NaN                   NaN   \n",
       "1   10+ times a week             Never   15-30 minutes a day   \n",
       "2  6-10 times a week  3-5 times a week   30-60 minutes a day   \n",
       "3   10+ times a week  1-2 times a week   15-30 minutes a day   \n",
       "4   1-2 times a week  3-5 times a week  60-120 minutes a day   \n",
       "\n",
       "         TimeAnswering                                   ProfessionalTech  \\\n",
       "0                  NaN                                                NaN   \n",
       "1  15-30 minutes a day  DevOps function;Microservices;Automated testin...   \n",
       "2  30-60 minutes a day  DevOps function;Microservices;Automated testin...   \n",
       "3  30-60 minutes a day  Automated testing;Continuous integration (CI) ...   \n",
       "4  30-60 minutes a day  Microservices;Automated testing;Observability ...   \n",
       "\n",
       "                                            Industry           SurveyLength  \\\n",
       "0                                                NaN                    NaN   \n",
       "1  Information Services, IT, Software Development...  Appropriate in length   \n",
       "2  Information Services, IT, Software Development...  Appropriate in length   \n",
       "3                                                NaN  Appropriate in length   \n",
       "4                                              Other  Appropriate in length   \n",
       "\n",
       "                   SurveyEase ConvertedCompYearly  \n",
       "0                         NaN                 NaN  \n",
       "1                        Easy            285000.0  \n",
       "2                        Easy            250000.0  \n",
       "3                        Easy            156000.0  \n",
       "4  Neither easy nor difficult             23456.0  \n",
       "\n",
       "[5 rows x 84 columns]"
      ]
     },
     "execution_count": 13,
     "metadata": {},
     "output_type": "execute_result"
    }
   ],
   "source": [
    "import pandas as pd\n",
    "import numpy as np\n",
    "\n",
    "df = pd.read_csv('data/survey_results_public.csv', sep=\",\", header=0)\n",
    "print(f'Number of rows: {len(df)}')\n",
    "df.head(5)"
   ]
  },
  {
   "cell_type": "markdown",
   "metadata": {},
   "source": [
    "### 2. Data Cleaning"
   ]
  },
  {
   "cell_type": "markdown",
   "metadata": {},
   "source": [
    "#### I. Drop unnecessary columns"
   ]
  },
  {
   "cell_type": "code",
   "execution_count": 14,
   "metadata": {},
   "outputs": [
    {
     "name": "stdout",
     "output_type": "stream",
     "text": [
      "Column name: Q120                 | unique values: ['I agree']\n",
      "Column name: RemoteWork           | unique values: [nan 'Remote' 'Hybrid (some remote, some in-person)' 'In-person']\n",
      "Column name: PurchaseInfluence    | unique values: [nan 'I have a great deal of influence' 'I have some influence'\n",
      " 'I have little or no influence']\n",
      "Column name: TechList             | unique values: [nan 'Investigate' 'Given a list' 'Other']\n",
      "Column name: SOAccount            | unique values: [nan 'Yes' 'No' \"Not sure/can't remember\"]\n",
      "Column name: AISelect             | unique values: [nan 'Yes' \"No, and I don't plan to\" 'No, but I plan to soon']\n",
      "Column name: TBranch              | unique values: [nan 'Yes' 'No']\n",
      "Column name: ICorPM               | unique values: [nan 'People manager' 'Individual contributor']\n",
      "Column name: SurveyLength         | unique values: [nan 'Appropriate in length' 'Too long' 'Too short']\n",
      "Column name: SurveyEase           | unique values: [nan 'Easy' 'Neither easy nor difficult' 'Difficult']\n"
     ]
    }
   ],
   "source": [
    "# Q120 - only one unique value - irrelevant information, checking if there are more column like this\n",
    "\n",
    "for column in df:\n",
    "    unique_values = df[column].unique()\n",
    "    if len(unique_values) < 5:\n",
    "        print(f'Column name: {column:20} | unique values: {unique_values}')\n",
    "\n",
    "cols = [\"Q120\", \"SurveyLength\", \"SurveyEase\", 'SOAI', 'YearsCodePro']\n",
    "df.drop(cols, inplace=True, axis=1)\n",
    "# SurveyLentgh, SurveyEase - irrelevant information for further analysis\n",
    "# SOAI long strings containing user opinions about AI, great for NLP, not exactly for this project"
   ]
  },
  {
   "cell_type": "markdown",
   "metadata": {},
   "source": [
    "#### II. Remove duplicate and Incomplete Cases"
   ]
  },
  {
   "cell_type": "code",
   "execution_count": 15,
   "metadata": {},
   "outputs": [
    {
     "name": "stdout",
     "output_type": "stream",
     "text": [
      "Removed 5975\n"
     ]
    }
   ],
   "source": [
    "# Removing rows where more than 60% of columns is null\n",
    "n_columns = len(df.columns)\n",
    "mostly_nulls = df.isnull().sum(axis=1)\n",
    "mostly_nulls_count = mostly_nulls[mostly_nulls/n_columns > 0.6]\n",
    "df.drop(mostly_nulls_count.index, inplace=True)\n",
    "\n",
    "print(f'Removed {len(mostly_nulls_count)}')"
   ]
  },
  {
   "cell_type": "code",
   "execution_count": 16,
   "metadata": {},
   "outputs": [
    {
     "name": "stdout",
     "output_type": "stream",
     "text": [
      "False\n",
      "False\n"
     ]
    }
   ],
   "source": [
    "# Check for duplicates\n",
    "duplicates = df.iloc[:,1:].duplicated().any()\n",
    "print(duplicates)\n",
    "# unique values\n",
    "duplicates = df['ResponseId'].duplicated().any()\n",
    "print(duplicates)"
   ]
  },
  {
   "cell_type": "markdown",
   "metadata": {},
   "source": [
    "#### III. Handle data types"
   ]
  },
  {
   "cell_type": "code",
   "execution_count": 17,
   "metadata": {},
   "outputs": [
    {
     "data": {
      "text/plain": [
       "ResponseId                               int64\n",
       "MainBranch                              object\n",
       "Age                                     object\n",
       "Employment                              object\n",
       "RemoteWork                              object\n",
       "CodingActivities                        object\n",
       "EdLevel                                 object\n",
       "LearnCode                               object\n",
       "LearnCodeOnline                         object\n",
       "LearnCodeCoursesCert                    object\n",
       "YearsCode                               object\n",
       "DevType                                 object\n",
       "OrgSize                                 object\n",
       "PurchaseInfluence                       object\n",
       "TechList                                object\n",
       "BuyNewTool                              object\n",
       "Country                                 object\n",
       "Currency                                object\n",
       "CompTotal                              float64\n",
       "LanguageHaveWorkedWith                  object\n",
       "LanguageWantToWorkWith                  object\n",
       "DatabaseHaveWorkedWith                  object\n",
       "DatabaseWantToWorkWith                  object\n",
       "PlatformHaveWorkedWith                  object\n",
       "PlatformWantToWorkWith                  object\n",
       "WebframeHaveWorkedWith                  object\n",
       "WebframeWantToWorkWith                  object\n",
       "MiscTechHaveWorkedWith                  object\n",
       "MiscTechWantToWorkWith                  object\n",
       "ToolsTechHaveWorkedWith                 object\n",
       "ToolsTechWantToWorkWith                 object\n",
       "NEWCollabToolsHaveWorkedWith            object\n",
       "NEWCollabToolsWantToWorkWith            object\n",
       "OpSysPersonal use                       object\n",
       "OpSysProfessional use                   object\n",
       "OfficeStackAsyncHaveWorkedWith          object\n",
       "OfficeStackAsyncWantToWorkWith          object\n",
       "OfficeStackSyncHaveWorkedWith           object\n",
       "OfficeStackSyncWantToWorkWith           object\n",
       "AISearchHaveWorkedWith                  object\n",
       "AISearchWantToWorkWith                  object\n",
       "AIDevHaveWorkedWith                     object\n",
       "AIDevWantToWorkWith                     object\n",
       "NEWSOSites                              object\n",
       "SOVisitFreq                             object\n",
       "SOAccount                               object\n",
       "SOPartFreq                              object\n",
       "SOComm                                  object\n",
       "AISelect                                object\n",
       "AISent                                  object\n",
       "AIAcc                                   object\n",
       "AIBen                                   object\n",
       "AIToolInterested in Using               object\n",
       "AIToolCurrently Using                   object\n",
       "AIToolNot interested in Using           object\n",
       "AINextVery different                    object\n",
       "AINextNeither different nor similar     object\n",
       "AINextSomewhat similar                  object\n",
       "AINextVery similar                      object\n",
       "AINextSomewhat different                object\n",
       "TBranch                                 object\n",
       "ICorPM                                  object\n",
       "WorkExp                                float64\n",
       "Knowledge_1                             object\n",
       "Knowledge_2                             object\n",
       "Knowledge_3                             object\n",
       "Knowledge_4                             object\n",
       "Knowledge_5                             object\n",
       "Knowledge_6                             object\n",
       "Knowledge_7                             object\n",
       "Knowledge_8                             object\n",
       "Frequency_1                             object\n",
       "Frequency_2                             object\n",
       "Frequency_3                             object\n",
       "TimeSearching                           object\n",
       "TimeAnswering                           object\n",
       "ProfessionalTech                        object\n",
       "Industry                                object\n",
       "ConvertedCompYearly                    float64\n",
       "dtype: object"
      ]
     },
     "metadata": {},
     "output_type": "display_data"
    }
   ],
   "source": [
    "# Check data type for each column\n",
    "with pd.option_context('display.max_rows', None):\n",
    "    display(df.dtypes)"
   ]
  },
  {
   "cell_type": "markdown",
   "metadata": {},
   "source": [
    "#### IV. Threat null values"
   ]
  },
  {
   "cell_type": "code",
   "execution_count": 18,
   "metadata": {},
   "outputs": [
    {
     "data": {
      "text/plain": [
       "ResponseId                                 0\n",
       "MainBranch                                 0\n",
       "Age                                        0\n",
       "Employment                                 0\n",
       "RemoteWork                                 0\n",
       "CodingActivities                           0\n",
       "EdLevel                                    0\n",
       "LearnCode                                  0\n",
       "LearnCodeOnline                            0\n",
       "LearnCodeCoursesCert                       0\n",
       "YearsCode                                  0\n",
       "DevType                                    0\n",
       "OrgSize                                    0\n",
       "PurchaseInfluence                          0\n",
       "TechList                                   0\n",
       "BuyNewTool                                 0\n",
       "Country                                    0\n",
       "Currency                                   0\n",
       "CompTotal                              35164\n",
       "LanguageHaveWorkedWith                     0\n",
       "LanguageWantToWorkWith                     0\n",
       "DatabaseHaveWorkedWith                     0\n",
       "DatabaseWantToWorkWith                     0\n",
       "PlatformHaveWorkedWith                     0\n",
       "PlatformWantToWorkWith                     0\n",
       "WebframeHaveWorkedWith                     0\n",
       "WebframeWantToWorkWith                     0\n",
       "MiscTechHaveWorkedWith                     0\n",
       "MiscTechWantToWorkWith                     0\n",
       "ToolsTechHaveWorkedWith                    0\n",
       "ToolsTechWantToWorkWith                    0\n",
       "NEWCollabToolsHaveWorkedWith               0\n",
       "NEWCollabToolsWantToWorkWith               0\n",
       "OpSysPersonal use                          0\n",
       "OpSysProfessional use                      0\n",
       "OfficeStackAsyncHaveWorkedWith             0\n",
       "OfficeStackAsyncWantToWorkWith             0\n",
       "OfficeStackSyncHaveWorkedWith              0\n",
       "OfficeStackSyncWantToWorkWith              0\n",
       "AISearchHaveWorkedWith                     0\n",
       "AISearchWantToWorkWith                     0\n",
       "AIDevHaveWorkedWith                        0\n",
       "AIDevWantToWorkWith                        0\n",
       "NEWSOSites                                 0\n",
       "SOVisitFreq                                0\n",
       "SOAccount                                  0\n",
       "SOPartFreq                                 0\n",
       "SOComm                                     0\n",
       "AISelect                                   0\n",
       "AISent                                     0\n",
       "AIAcc                                      0\n",
       "AIBen                                      0\n",
       "AIToolInterested in Using                  0\n",
       "AIToolCurrently Using                      0\n",
       "AIToolNot interested in Using              0\n",
       "AINextVery different                       0\n",
       "AINextNeither different nor similar        0\n",
       "AINextSomewhat similar                     0\n",
       "AINextVery similar                         0\n",
       "AINextSomewhat different                   0\n",
       "TBranch                                    0\n",
       "ICorPM                                     0\n",
       "WorkExp                                39686\n",
       "Knowledge_1                                0\n",
       "Knowledge_2                                0\n",
       "Knowledge_3                                0\n",
       "Knowledge_4                                0\n",
       "Knowledge_5                                0\n",
       "Knowledge_6                                0\n",
       "Knowledge_7                                0\n",
       "Knowledge_8                                0\n",
       "Frequency_1                                0\n",
       "Frequency_2                                0\n",
       "Frequency_3                                0\n",
       "TimeSearching                              0\n",
       "TimeAnswering                              0\n",
       "ProfessionalTech                           0\n",
       "Industry                                   0\n",
       "ConvertedCompYearly                    35359\n",
       "dtype: int64"
      ]
     },
     "metadata": {},
     "output_type": "display_data"
    }
   ],
   "source": [
    "# replace nulls in text columns with 'N/A'\n",
    "cols = [column for column in df if df[column].isnull().sum()>0 and df[column].dtype == 'object']\n",
    "df = df.fillna(dict.fromkeys(cols, 'N/A'))\n",
    "with pd.option_context('display.max_rows', None):\n",
    "    display(df.isnull().sum())"
   ]
  },
  {
   "cell_type": "code",
   "execution_count": 19,
   "metadata": {},
   "outputs": [],
   "source": [
    "# Drop rows where code years are not specified\n",
    "df.drop(df['YearsCode'][df['YearsCode']  == 'N/A'].index, inplace=True)"
   ]
  },
  {
   "cell_type": "code",
   "execution_count": 20,
   "metadata": {},
   "outputs": [],
   "source": [
    "# Convert text values to numeric at first, later categorize data by specified ranges\n",
    "df.loc[df['YearsCode'] == 'Less than 1 year', 'YearsCode'] = '0'\n",
    "df.loc[df['YearsCode'] == 'More than 50 years', 'YearsCode'] = '51'\n",
    "\n",
    "df['YearsCode'] = df['YearsCode'].astype(np.int32)\n",
    "\n",
    "bins = [-np.inf, 1, 3, 7, 13, 20, 30, 40, 50, np.inf]\n",
    "names = ['<1', '1-3', '4-7', '8-13', '14-20', '21-30', '31-40', '41-50', '50<']\n",
    "\n",
    "df['YearsCode'] = pd.cut(df['YearsCode'], bins, labels=names)"
   ]
  },
  {
   "cell_type": "markdown",
   "metadata": {},
   "source": [
    "#### V. Check and remove nonsense answers and unreadable data"
   ]
  },
  {
   "cell_type": "code",
   "execution_count": 21,
   "metadata": {},
   "outputs": [
    {
     "name": "stdout",
     "output_type": "stream",
     "text": [
      "CodingActivities answers: \n"
     ]
    },
    {
     "data": {
      "text/plain": [
       "array(['Hobby', 'Contribute to open-source projects',\n",
       "       'Bootstrapping a business',\n",
       "       'Professional development or self-paced learning from online courses',\n",
       "       'N/A', 'I don’t code outside of work', 'Freelance/contract work',\n",
       "       'School or academic work', 'Other (please specify):'], dtype=object)"
      ]
     },
     "metadata": {},
     "output_type": "display_data"
    },
    {
     "name": "stdout",
     "output_type": "stream",
     "text": [
      "LearnCode answers: \n"
     ]
    },
    {
     "data": {
      "text/plain": [
       "array(['Books / Physical media', 'Colleague', 'Friend or family member',\n",
       "       'Hackathons (virtual or in-person)',\n",
       "       'Online Courses or Certification', 'On the job training',\n",
       "       'Other online resources (e.g., videos, blogs, forum)',\n",
       "       'School (i.e., University, College, etc)', 'Coding Bootcamp',\n",
       "       'Other (please specify):', 'N/A'], dtype=object)"
      ]
     },
     "metadata": {},
     "output_type": "display_data"
    },
    {
     "name": "stdout",
     "output_type": "stream",
     "text": [
      "LearnCodeOnline answers:\n"
     ]
    },
    {
     "data": {
      "text/plain": [
       "array(['Formal documentation provided by the owner of the tech',\n",
       "       'Blogs with tips and tricks', 'Books', 'Recorded coding sessions',\n",
       "       'How-to videos', 'Video-based Online Courses',\n",
       "       'Written-based Online Courses',\n",
       "       'Auditory material (e.g., podcasts)',\n",
       "       'Online challenges (e.g., daily or weekly coding challenges)',\n",
       "       'Written Tutorials', 'Click to write Choice 20', 'Stack Overflow',\n",
       "       'Interactive tutorial', 'Certification videos', 'N/A',\n",
       "       'Programming Games', 'Other (Please specify):'], dtype=object)"
      ]
     },
     "metadata": {},
     "output_type": "display_data"
    },
    {
     "name": "stdout",
     "output_type": "stream",
     "text": [
      "LearnCodeCoursesCert answers:\n"
     ]
    },
    {
     "data": {
      "text/plain": [
       "array(['Other', 'N/A', 'Codecademy', 'edX', 'Udemy', 'Pluralsight',\n",
       "       'Coursera', 'Udacity', 'Skillsoft'], dtype=object)"
      ]
     },
     "metadata": {},
     "output_type": "display_data"
    },
    {
     "name": "stdout",
     "output_type": "stream",
     "text": [
      "DevType answers:\n"
     ]
    },
    {
     "data": {
      "text/plain": [
       "array(['Senior Executive (C-Suite, VP, etc.)', 'Developer, back-end',\n",
       "       'Developer, front-end', 'Developer, full-stack',\n",
       "       'System administrator',\n",
       "       'Developer, desktop or enterprise applications',\n",
       "       'Developer, QA or test', 'Designer',\n",
       "       'Data scientist or machine learning specialist',\n",
       "       'Data or business analyst', 'Security professional',\n",
       "       'Research & Development role', 'N/A', 'Other (please specify):',\n",
       "       'Developer, mobile', 'Database administrator',\n",
       "       'Developer, embedded applications or devices', 'Student',\n",
       "       'Engineer, data', 'Product manager', 'Academic researcher',\n",
       "       'Developer, game or graphics', 'Cloud infrastructure engineer',\n",
       "       'Engineering manager', 'Developer Experience', 'Project manager',\n",
       "       'DevOps specialist', 'Engineer, site reliability', 'Blockchain',\n",
       "       'Developer Advocate', 'Educator', 'Scientist', 'Hardware Engineer',\n",
       "       'Marketing or sales professional'], dtype=object)"
      ]
     },
     "metadata": {},
     "output_type": "display_data"
    },
    {
     "name": "stdout",
     "output_type": "stream",
     "text": [
      "TechList answers:\n"
     ]
    },
    {
     "data": {
      "text/plain": [
       "array(['Investigate', 'Given a list', 'N/A', 'Other'], dtype=object)"
      ]
     },
     "metadata": {},
     "output_type": "display_data"
    },
    {
     "name": "stdout",
     "output_type": "stream",
     "text": [
      "BuyNewTool answers:\n"
     ]
    },
    {
     "data": {
      "text/plain": [
       "array(['Start a free trial', 'Ask developers I know/work with',\n",
       "       'Visit developer communities like Stack Overflow',\n",
       "       'Other (please specify):',\n",
       "       'Research companies that have advertised on sites I visit',\n",
       "       'Read ratings or reviews on third party sites like G2 Crowd',\n",
       "       'Ask a generative AI tool',\n",
       "       'Research companies that have emailed me', 'N/A'], dtype=object)"
      ]
     },
     "metadata": {},
     "output_type": "display_data"
    },
    {
     "name": "stdout",
     "output_type": "stream",
     "text": [
      "Language answers:\n"
     ]
    },
    {
     "data": {
      "text/plain": [
       "array(['HTML/CSS', 'JavaScript', 'Python', 'Bash/Shell (all shells)',\n",
       "       'Go', 'PHP', 'Ruby', 'SQL', 'TypeScript', 'Ada', 'Clojure',\n",
       "       'Elixir', 'Java', 'Lisp', 'OCaml', 'Raku', 'Scala', 'Swift', 'Zig',\n",
       "       'Rust', 'C#', 'PowerShell', 'C++', 'Kotlin', 'Solidity', 'C',\n",
       "       'Perl', 'Dart', 'Haskell', 'Assembly', 'Delphi', 'R', 'Lua', 'VBA',\n",
       "       'Visual Basic (.Net)', 'Julia', 'MATLAB', 'F#', 'Groovy', 'APL',\n",
       "       'Objective-C', 'GDScript', 'Crystal', 'Erlang', 'Cobol', 'Fortran',\n",
       "       'Prolog', 'Apex', 'N/A', 'SAS', 'Nim', 'Flow'], dtype=object)"
      ]
     },
     "metadata": {},
     "output_type": "display_data"
    }
   ],
   "source": [
    "pd.options.display.max_rows = 100\n",
    "pd.options.display.max_colwidth = 200\n",
    "\n",
    "listed_LC = df['CodingActivities'].str.split(';')\n",
    "print(f'CodingActivities answers: ')\n",
    "display(listed_LC.explode().unique())\n",
    "\n",
    "listed_LC = df['LearnCode'].str.split(';')\n",
    "print(f'LearnCode answers: ')\n",
    "display(listed_LC.explode().unique())\n",
    "\n",
    "listed_LCO = df['LearnCodeOnline'].str.split(';')\n",
    "print('LearnCodeOnline answers:')\n",
    "display(listed_LCO.explode().unique())\n",
    "# Nonsense answer to delete\n",
    "#display(listed_LCO.explode()[listed_LCO.explode() == 'Click to write Choice 20'])\n",
    "\n",
    "listed_LCCC = df['LearnCodeCoursesCert'].str.split(';')\n",
    "print('LearnCodeCoursesCert answers:')\n",
    "display(listed_LCCC.explode().unique())\n",
    "\n",
    "listed_DT = df['DevType'].str.split(';')\n",
    "print('DevType answers:')\n",
    "display(listed_DT.explode().unique())\n",
    "\n",
    "listed_TL = df['TechList'].str.split(';')\n",
    "print('TechList answers:')\n",
    "display(listed_TL.explode().unique())\n",
    "\n",
    "listed_BNT = df['BuyNewTool'].str.split(';')\n",
    "print('BuyNewTool answers:')\n",
    "display(listed_BNT.explode().unique())\n",
    "\n",
    "listed_L = df['LanguageHaveWorkedWith'].str.split(';')\n",
    "print('Language answers:')\n",
    "display(listed_L.explode().unique())\n",
    "\n",
    "# It seems like questions of multiple choice together with user inputs doesn't have this data,\n",
    "# because of that further checking of these type of columns will be omitted.\n",
    "pd.reset_option('display.max_rows')\n",
    "pd.reset_option('display.max_colwidth')"
   ]
  },
  {
   "cell_type": "code",
   "execution_count": 22,
   "metadata": {},
   "outputs": [
    {
     "name": "stdout",
     "output_type": "stream",
     "text": [
      "Index(['ResponseId', 'MainBranch', 'Age', 'Employment', 'RemoteWork',\n",
      "       'CodingActivities', 'EdLevel', 'LearnCode', 'LearnCodeOnline',\n",
      "       'LearnCodeCoursesCert', 'YearsCode', 'DevType', 'OrgSize',\n",
      "       'PurchaseInfluence', 'TechList', 'BuyNewTool', 'Country', 'Currency',\n",
      "       'CompTotal', 'LanguageHaveWorkedWith', 'LanguageWantToWorkWith',\n",
      "       'DatabaseHaveWorkedWith', 'DatabaseWantToWorkWith',\n",
      "       'PlatformHaveWorkedWith', 'PlatformWantToWorkWith',\n",
      "       'WebframeHaveWorkedWith', 'WebframeWantToWorkWith',\n",
      "       'MiscTechHaveWorkedWith', 'MiscTechWantToWorkWith',\n",
      "       'ToolsTechHaveWorkedWith', 'ToolsTechWantToWorkWith',\n",
      "       'NEWCollabToolsHaveWorkedWith', 'NEWCollabToolsWantToWorkWith',\n",
      "       'OpSysPersonal use', 'OpSysProfessional use',\n",
      "       'OfficeStackAsyncHaveWorkedWith', 'OfficeStackAsyncWantToWorkWith',\n",
      "       'OfficeStackSyncHaveWorkedWith', 'OfficeStackSyncWantToWorkWith',\n",
      "       'AISearchHaveWorkedWith', 'AISearchWantToWorkWith',\n",
      "       'AIDevHaveWorkedWith', 'AIDevWantToWorkWith', 'NEWSOSites',\n",
      "       'SOVisitFreq', 'SOAccount', 'SOPartFreq', 'SOComm', 'AISelect',\n",
      "       'AISent', 'AIAcc', 'AIBen', 'AIToolInterested in Using',\n",
      "       'AIToolCurrently Using', 'AIToolNot interested in Using',\n",
      "       'AINextVery different', 'AINextNeither different nor similar',\n",
      "       'AINextSomewhat similar', 'AINextVery similar',\n",
      "       'AINextSomewhat different', 'TBranch', 'ICorPM', 'WorkExp',\n",
      "       'Knowledge_1', 'Knowledge_2', 'Knowledge_3', 'Knowledge_4',\n",
      "       'Knowledge_5', 'Knowledge_6', 'Knowledge_7', 'Knowledge_8',\n",
      "       'Frequency_1', 'Frequency_2', 'Frequency_3', 'TimeSearching',\n",
      "       'TimeAnswering', 'ProfessionalTech', 'Industry', 'ConvertedCompYearly'],\n",
      "      dtype='object')\n"
     ]
    }
   ],
   "source": [
    "print(df.columns)"
   ]
  },
  {
   "cell_type": "code",
   "execution_count": 23,
   "metadata": {},
   "outputs": [
    {
     "name": "stdout",
     "output_type": "stream",
     "text": [
      "Removed 60\n"
     ]
    }
   ],
   "source": [
    "rows = df[df[\"ConvertedCompYearly\"] > 1e6]\n",
    "print(f'Removed {len(rows)}')\n",
    "df.drop(rows.index, inplace=True)"
   ]
  },
  {
   "cell_type": "markdown",
   "metadata": {},
   "source": [
    "### Save File"
   ]
  },
  {
   "cell_type": "code",
   "execution_count": 24,
   "metadata": {},
   "outputs": [],
   "source": [
    "df.to_csv('data/pandas_processed.csv', sep=',', header=1, index=None)"
   ]
  },
  {
   "cell_type": "markdown",
   "metadata": {},
   "source": [
    "### Testing section"
   ]
  },
  {
   "cell_type": "code",
   "execution_count": 22,
   "metadata": {},
   "outputs": [
    {
     "name": "stdout",
     "output_type": "stream",
     "text": [
      "MainBranch: 85\n",
      "Age: 18\n",
      "Employment: 212\n",
      "RemoteWork: 36\n",
      "CodingActivities: 205\n",
      "EdLevel: 82\n",
      "LearnCode: 274\n",
      "LearnCodeOnline: 419\n",
      "LearnCodeCoursesCert: 65\n",
      "YearsCode: 11\n",
      "DevType: 45\n",
      "OrgSize: 50\n",
      "PurchaseInfluence: 32\n",
      "TechList: 12\n",
      "BuyNewTool: 303\n",
      "Country: 52\n",
      "Currency: 43\n",
      "LanguageHaveWorkedWith: 340\n",
      "LanguageWantToWorkWith: 340\n",
      "DatabaseHaveWorkedWith: 314\n",
      "DatabaseWantToWorkWith: 314\n",
      "PlatformHaveWorkedWith: 278\n",
      "PlatformWantToWorkWith: 278\n",
      "WebframeHaveWorkedWith: 274\n",
      "WebframeWantToWorkWith: 274\n",
      "MiscTechHaveWorkedWith: 345\n",
      "MiscTechWantToWorkWith: 345\n",
      "ToolsTechHaveWorkedWith: 421\n",
      "ToolsTechWantToWorkWith: 421\n",
      "NEWCollabToolsHaveWorkedWith: 370\n",
      "NEWCollabToolsWantToWorkWith: 370\n",
      "OpSysPersonal use: 180\n",
      "OpSysProfessional use: 180\n",
      "OfficeStackAsyncHaveWorkedWith: 386\n",
      "OfficeStackAsyncWantToWorkWith: 386\n",
      "OfficeStackSyncHaveWorkedWith: 212\n",
      "OfficeStackSyncWantToWorkWith: 212\n",
      "AISearchHaveWorkedWith: 104\n",
      "AISearchWantToWorkWith: 104\n",
      "AIDevHaveWorkedWith: 122\n",
      "AIDevWantToWorkWith: 122\n",
      "NEWSOSites: 151\n",
      "SOVisitFreq: 35\n",
      "SOAccount: 23\n",
      "SOPartFreq: 50\n",
      "SOComm: 15\n",
      "AISelect: 23\n",
      "AISent: 16\n",
      "AIAcc: 130\n",
      "AIBen: 26\n",
      "AIToolInterested in Using: 222\n",
      "AIToolCurrently Using: 222\n",
      "AIToolNot interested in Using: 222\n",
      "AINextVery different: 222\n",
      "AINextNeither different nor similar: 222\n",
      "AINextSomewhat similar: 222\n",
      "AINextVery similar: 222\n",
      "AINextSomewhat different: 222\n",
      "TBranch: 3\n",
      "ICorPM: 22\n",
      "Knowledge_1: 26\n",
      "Knowledge_2: 26\n",
      "Knowledge_3: 26\n",
      "Knowledge_4: 26\n",
      "Knowledge_5: 26\n",
      "Knowledge_6: 26\n",
      "Knowledge_7: 26\n",
      "Knowledge_8: 26\n",
      "Frequency_1: 17\n",
      "Frequency_2: 17\n",
      "Frequency_3: 17\n",
      "TimeSearching: 26\n",
      "TimeAnswering: 26\n",
      "ProfessionalTech: 264\n",
      "Industry: 67\n"
     ]
    }
   ],
   "source": [
    "for col in df.columns:\n",
    "    if df[col].dtype != 'float64' and df[col].dtype !='int64':\n",
    "        print(f'{col}: {df[col].str.len().max()}')"
   ]
  }
 ],
 "metadata": {
  "kernelspec": {
   "display_name": "pytorch",
   "language": "python",
   "name": "python3"
  },
  "language_info": {
   "codemirror_mode": {
    "name": "ipython",
    "version": 3
   },
   "file_extension": ".py",
   "mimetype": "text/x-python",
   "name": "python",
   "nbconvert_exporter": "python",
   "pygments_lexer": "ipython3",
   "version": "3.11.5"
  }
 },
 "nbformat": 4,
 "nbformat_minor": 2
}
